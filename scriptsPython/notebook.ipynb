{
 "cells": [
  {
   "cell_type": "markdown",
   "source": "## Importation",
   "metadata": {
    "tags": [],
    "cell_id": "00000-0467fd84-ecb9-4001-ad46-524e267da480",
    "deepnote_cell_type": "markdown"
   }
  },
  {
   "cell_type": "code",
   "metadata": {
    "tags": [],
    "cell_id": "00000-fa784377-89eb-4f22-a5e1-53098c560763",
    "deepnote_to_be_reexecuted": false,
    "source_hash": "b7d8472b",
    "execution_start": 1633958246033,
    "execution_millis": 4625,
    "deepnote_cell_type": "code"
   },
   "source": "!pip install rdflib\nimport pandas as pd\nimport csv",
   "outputs": [
    {
     "name": "stdout",
     "text": "Collecting rdflib\n  Downloading rdflib-6.0.2-py3-none-any.whl (407 kB)\n\u001b[K     |████████████████████████████████| 407 kB 43.7 MB/s \n\u001b[?25hRequirement already satisfied: setuptools in /root/venv/lib/python3.7/site-packages (from rdflib) (58.1.0)\nRequirement already satisfied: isodate in /shared-libs/python3.7/py/lib/python3.7/site-packages (from rdflib) (0.6.0)\nRequirement already satisfied: pyparsing in /shared-libs/python3.7/py-core/lib/python3.7/site-packages (from rdflib) (2.4.7)\nRequirement already satisfied: six in /shared-libs/python3.7/py-core/lib/python3.7/site-packages (from isodate->rdflib) (1.16.0)\nInstalling collected packages: rdflib\nSuccessfully installed rdflib-6.0.2\n",
     "output_type": "stream"
    }
   ],
   "execution_count": 2
  },
  {
   "cell_type": "markdown",
   "source": "## Tableau des propriétés",
   "metadata": {
    "tags": [],
    "cell_id": "00004-d726c95f-96cc-43c6-aeec-6b97f05aeb40",
    "deepnote_cell_type": "markdown"
   }
  },
  {
   "cell_type": "markdown",
   "source": "@prefix schema: <http://schema.org> \n@prefix foaf: <http://xmlns.com/foaf/0.1/>\n@prefix wkd: <https://www.wikidata.org/wiki/Property:>\n| Colonne  | Prédicat \n|-|-|\nid | URI de base de notre noeud\nlegislatureLast | custom\nciv | schema:gender  \nnom | schema:firstName  \nprenom  | schema:givenName  \nnaissance | schema:birthDate  \nage | inclassable (déduit de birthDate)\ngroupe | schema:memberOf\ngroupeAbrev | wkd:P1813\ndepartementNom | schema:addressRegion\ndepartementCode | schema:addressRegion\ncirco | wkd:P768\ndatePriseFonction | schema:Date\njob | schema:jobTitle\nmail | schema:email // wkd:P968\ntwitter | wkd:P2002\nfacebook | wkd:P2013\nwebsite | wkd:P856\nnombreMandats | custom\nexperienceDepute | custom\nscoreParticipation | custom\nscoreParticipationSpecialite | custom\nscoreLoyaute | custom\nscoreMajorite | custom\nactive | custom\ndateMaj | osef  \n\n  \nUn (blank?) node electedPlace avec un type Place qui a ensuite des propriétés sur le pays la zone geo etc  \nConnexion vers un node group de type Organization / GovernmentOrganization avec les membres, le nom l'abreviation le site\n\n\nDéputé -> https://www.wikidata.org/wiki/Q1055894\n\nPersonne\n\nGroupe\n\nLocalisation -> schema:AdministrativeArea\n\nVote  -> Schema:Legislation || https://www.wikidata.org/wiki/Q686822\n\nVotants\n\nFollowers -> https://www.wikidata.org/wiki/Property:P8687",
   "metadata": {
    "tags": [],
    "cell_id": "00005-3e55c6a0-7b7d-4fc1-8859-62c2fc76861b",
    "deepnote_cell_type": "markdown"
   }
  },
  {
   "cell_type": "markdown",
   "source": "| Colonne  | Prédicat \n|-|-|\nciv | schema:gender  \nnom | schema:firstName  \nprenom  | schema:givenName  \nnaissance | schema:birthDate  \nage | inclassable (déduit de birthDate)\njob | schema:jobTitle\n\n| Colonne  | Prédicat \n|-|-|\ngroupe | schema:memberOf // wkd:Q7278\ngroupeAbrev | wkd:P1813\ndepartementNom | schema:addressRegion\ndepartementCode | schema:addressRegion\ncirco | wkd:P768\n\n| Colonne  | Prédicat \n|-|-|\nmail | schema:email // wkd:P968\ntwitter | wkd:P2002\nfacebook | wkd:P2013\nwebsite | wkd:P856\n\n| Colonne  | Prédicat \n|-|-|\nID | schema:identifier\ndatePriseFonction | wkd:P580\nnombreMandats | custom\nexperienceDepute | custom\nscoreParticipation | custom\nscoreParticipationSpecialite | custom\nscoreLoyaute | custom\nscoreMajorite | custom\nactive | custom",
   "metadata": {
    "tags": [],
    "cell_id": "00004-d218d0b4-49eb-4a13-a9a2-10229621a626",
    "deepnote_cell_type": "markdown"
   }
  },
  {
   "cell_type": "code",
   "metadata": {
    "tags": [],
    "cell_id": "00006-2e46842b-d061-4804-b580-97542d6ee466",
    "deepnote_to_be_reexecuted": false,
    "source_hash": "b6148837",
    "execution_start": 1633621581760,
    "execution_millis": 1,
    "deepnote_cell_type": "code"
   },
   "source": "properties = ['schema: ', 'schema', 'schema:gender', 'schema:firstName',...]",
   "outputs": [],
   "execution_count": null
  },
  {
   "cell_type": "markdown",
   "source": "## dataToRDF \n- **entrées** : \n    - f : Le fichier csv d'origine.\n    - properties : Les différents prédicats.\n    - ref : \"\" L'origine de l'objet.\n    - rdfType : Le type du sujet. \n    - mailDef : Le prédicats mail.\n- **sortie**  : Un string \"au format RDF\"",
   "metadata": {
    "tags": [],
    "cell_id": "00007-7b4667c9-95c7-4f1d-b129-01792a7011d8",
    "deepnote_cell_type": "markdown"
   }
  },
  {
   "cell_type": "code",
   "metadata": {
    "tags": [],
    "cell_id": "00008-c8eef08a-5a00-40c3-a93d-18ddd805b6e9",
    "deepnote_to_be_reexecuted": false,
    "source_hash": "9bb9069a",
    "execution_start": 1633961287162,
    "execution_millis": 1172298,
    "deepnote_cell_type": "code"
   },
   "source": "from slugify import slugify\n\ndef dataToRDF(f, pred=[], ref=[], rdfType=\"schema:Person\", mailDef= \"schema:mail\", blankNodeId= 0, multivalue=\"\", url=\"schema:url\", nul=\"\"):\n    ## Chargement du csv dans un dataframe pandas\n    df = pd.read_csv(f, na_values=nul)\n\n    ## Si le prédicat est vide, alors les variables \n    ## du dataset sont choisis\n    if pred == []:\n        pred = df.columns\n\n    l = len(pred)\n    lNew = []\n    for i, row in df.iterrows():\n\n        blank_node = slugify(row[blankNodeId])\n        # Ajout du type \n        lNew.append(str(\"\\n:\" + str(blank_node) + \" rdf:type \" + str(rdfType) + \" .\"))\n        for j in range(0,l):\n            # Si un objet est bien renseigné, on l'ajoute au RDF\n            if str(row[j]) != 'nan': \n                sujet = \":\" + str(blank_node)\n                predicat = \" \" + str(pred[j]) + \" \"\n\n                if pred[j] == mailDef:# Si adresse mail \n                    obj = \"<mailto:\"+ str(row[j]) + \"> .\"\n                elif pred[j] == url :\n                    obj = \"<\" + str(row[j]) + \"> .\"\n                else : \n                    if ref[j] == \"\":\n                        obj = \"\\\"\" + str(row[j]) + \"\\\" .\"\n                    else:\n                        obj = \" \" + str(ref[j])+ slugify(str(row[j])) + \" .\"\n                \n                ## Si il y a plusieurs valeurs associées\n                if pred[j] == multivalue:\n                    tab = str(row[j]).split(\";\")\n                    for val in tab:\n                        # On ajoute le nouveau triplet\n                        lNew.append(str(sujet + predicat + \"\\\"\" +val + \"\\\" .\"))\n                else :\n                    # On ajoute le nouveau triplet\n                    lNew.append(str(sujet + predicat + obj))\n    # Retourne le string du fichier RDF\n    return \"\\n\".join(lNew)\n\ndef RDFToFile(RDF, nameFile = \"default.ttl\", prefix=[]): \n    with open(nameFile, \"w\") as text_file:\n        for p in prefix: # On ajoute tout les préfixes\n            text_file.write(str(\"@prefix \" + str(p) + \" .\\n\"))\n        # On passe une ligne\n        text_file.write(str(\"\\n\"))\n        # Ecriture du fichier \n        text_file.write(RDF)\n",
   "outputs": [],
   "execution_count": 32
  },
  {
   "cell_type": "markdown",
   "source": "## Main",
   "metadata": {
    "tags": [],
    "cell_id": "00007-b20538b5-840b-4f47-a5ac-5e1c1baab1dc",
    "deepnote_cell_type": "markdown"
   }
  },
  {
   "cell_type": "markdown",
   "source": "#### CSV Deputés",
   "metadata": {
    "tags": [],
    "cell_id": "00008-497d09d2-63e0-406e-9937-6182c87767fd",
    "deepnote_cell_type": "markdown"
   }
  },
  {
   "cell_type": "code",
   "metadata": {
    "tags": [],
    "cell_id": "00007-26f6138b-545e-4b49-b5bd-d75bf50900cf",
    "deepnote_to_be_reexecuted": false,
    "source_hash": "179a49ea",
    "execution_start": 1633962668747,
    "execution_millis": 1220,
    "deepnote_cell_type": "code"
   },
   "source": "typeRDF = \"schema:Person\"\nproperties = [\"schema:identifier\", \"custom:legislatureLast\", \"schema:genre\", \"schema:firstName\", \"schema:givenName\", \"schema:birthdate\", \"custom:age\", \"schema:memberOf\", \"schema:addressRegion\", \"wkd:P768\", \"custom:startOccupation\", \"schema:jobTitle\", \"schema:email\", \"wkd:P2002\", \"wkd:P2013\", \"wkd:P856\", \"custom:nombreMandats\", \"custom:experienceDepute\", \"custom:scoreParticipation\", \"custom:scoreParticipationSpecialite\", \"custom:scoreLoyaute\", \"custom:scoreMajorite\", \"custom:active\", \"custom:dateMaj\"]\nrefs = [\"\",\"\",\"\",\"\",\"\",\"\",\"\",\"group:\",\"loc:\",\"\",\"\",\"\",\"\",\"\",\"\",\"\",\"\",\"\",\"\",\"\",\"\",\"\",\"\",\"\",\"\"]\nbI = 0 # Blank Node ID\npref = [\"rdf: <http://w3c.org/1999/02/22-rdf-syntax-ns#>\",\"schema: <http://schema.org/>\", \"wkd: <https://www.wikidata.org/wiki/Property:>\", \"loc: <https://fuseki.dolr.es/loc/>\", \"group: <https://fuseki.dolr.es/group/>\", \"custom: <https://fuseki.dolr.es/ontology/>\", \": <https://fuseki.dolr.es/depute/>\"]\ns = dataToRDF(\"CSV/deputes.csv\", pred=properties, ref=refs)\nRDFToFile(s, nameFile = \"ttl/depute.ttl\", prefix = pref)",
   "outputs": [],
   "execution_count": 41
  },
  {
   "cell_type": "markdown",
   "source": "#### CSV Localisation",
   "metadata": {
    "tags": [],
    "cell_id": "00010-6300b69b-c49f-4917-9e5c-46eb41796def",
    "deepnote_cell_type": "markdown"
   }
  },
  {
   "cell_type": "code",
   "metadata": {
    "tags": [],
    "cell_id": "00011-c990808c-9c30-4bd8-b9e0-a9ea0e300e10",
    "deepnote_to_be_reexecuted": false,
    "source_hash": "d41e3ee5",
    "execution_start": 1633961892839,
    "execution_millis": 398,
    "deepnote_cell_type": "code"
   },
   "source": "# tR : Le type RDF \ntR = \"schema:AdministrativeArea\"\n# Les différents prédicats\np = [\"schema:name\", \"schema:address\"]\n\n# Si jamais l'objet n'est pas une constante (\"\"). Par exemple si c'est une personne, faire le lien avec le graph personne \"perso :\" (perso est un préfix)\nrefs = [\"\",\"\"]\n# Index de la \"clé\", \"l'identifiant\" (je sais plus le nom)\nbI = 1 \n# Liste des préfixes utilisés\npref = [\"rdf: <http://w3c.org/1999/02/22-rdf-syntax-ns#>\",\"schema: <http://schema.org/>\", \": <https://dolr.es/loc/>\"]\n\ns = dataToRDF(\"CSV/loc.csv\", ref=refs, rdfType=tR, blankNodeId=bI, pred=p)\nRDFToFile(s, nameFile = \"ttl/loc.ttl\", prefix = pref)",
   "outputs": [],
   "execution_count": 37
  },
  {
   "cell_type": "markdown",
   "source": "#### CSV Votes",
   "metadata": {
    "tags": [],
    "cell_id": "00012-14e5d93d-35aa-4d1b-817a-5630828722d3",
    "deepnote_cell_type": "markdown"
   }
  },
  {
   "cell_type": "code",
   "metadata": {
    "tags": [],
    "cell_id": "00009-8feb803e-b7f7-43c9-830d-97f4602202bd",
    "deepnote_to_be_reexecuted": false,
    "source_hash": "98917804",
    "execution_start": 1633894383421,
    "execution_millis": 13275,
    "deepnote_cell_type": "code"
   },
   "source": "# tR : Le type RDF \ntR = \"schema:Legislation\"\n# Les différents prédicats\nproperties = [\"schema:identifier\",\"\",\"schema:gender\",\"schema:firstName\",\"schema:givenName\",\"\",\"\",\"schema:memberOf\",\"\",\"\",\"\",\"\",\"\",\"schema:jobTitle\",\"\",\"\",\"\",\"\",\"\",\"\",\"\",\"\",\"\",\"\",\"\",\"\"]\n# Si jamais l'objet n'est pas une constante (\"\"). Par exemple si c'est une personne, faire le lien avec le graph personne \"perso :\" (perso est un préfix)\nrefs = [\"\",\"\",\"\",\"\",\"\",\"\",\"\",\"\",\"\",\"\",\"\",\"\",\"\",\"\",\"\",\"\",\"\",\"\",\"\",\"\",\"\",\"\",\"\",\"\",\"\",\"\"]\n# Index de la \"clé\", \"l'identifiant\" (je sais plus le nom)\nbI = 0\n# Liste des préfixes utilisés\npref = [\"rdf: <http://w3c.org/1999/02/22-rdf-syntax-ns#>\",\"schema: <http://schema.org/>\", \"loc: <http://LeNotre/loc>\", \": <https://dolr.es/votes/>\"]\ns = dataToRDF(\"CSV/votes.csv\", ref=refs)\nRDFToFile(s, nameFile = \"votes.ttl\", prefix = pref)",
   "outputs": [
    {
     "output_type": "error",
     "ename": "KeyboardInterrupt",
     "evalue": "",
     "traceback": [
      "\u001b[0;31m---------------------------------------------------------------------------\u001b[0m",
      "\u001b[0;31mKeyboardInterrupt\u001b[0m                         Traceback (most recent call last)",
      "\u001b[0;32m/tmp/ipykernel_85/800857923.py\u001b[0m in \u001b[0;36m<module>\u001b[0;34m\u001b[0m\n\u001b[1;32m      9\u001b[0m \u001b[0;31m# Liste des préfixes utilisés\u001b[0m\u001b[0;34m\u001b[0m\u001b[0;34m\u001b[0m\u001b[0;34m\u001b[0m\u001b[0m\n\u001b[1;32m     10\u001b[0m \u001b[0mpref\u001b[0m \u001b[0;34m=\u001b[0m \u001b[0;34m[\u001b[0m\u001b[0;34m\"rdf: <http://w3c.org/1999/02/22-rdf-syntax-ns#>\"\u001b[0m\u001b[0;34m,\u001b[0m\u001b[0;34m\"schema: <http://schema.org>\"\u001b[0m\u001b[0;34m,\u001b[0m \u001b[0;34m\"loc: <http://LeNotre/loc>\"\u001b[0m\u001b[0;34m]\u001b[0m\u001b[0;34m\u001b[0m\u001b[0;34m\u001b[0m\u001b[0m\n\u001b[0;32m---> 11\u001b[0;31m \u001b[0ms\u001b[0m \u001b[0;34m=\u001b[0m \u001b[0mdataToRDF\u001b[0m\u001b[0;34m(\u001b[0m\u001b[0;34m\"CSV/votes.csv\"\u001b[0m\u001b[0;34m,\u001b[0m \u001b[0mref\u001b[0m\u001b[0;34m=\u001b[0m\u001b[0mrefs\u001b[0m\u001b[0;34m)\u001b[0m\u001b[0;34m\u001b[0m\u001b[0;34m\u001b[0m\u001b[0m\n\u001b[0m\u001b[1;32m     12\u001b[0m \u001b[0mRDFToFile\u001b[0m\u001b[0;34m(\u001b[0m\u001b[0ms\u001b[0m\u001b[0;34m,\u001b[0m \u001b[0mnameFile\u001b[0m \u001b[0;34m=\u001b[0m \u001b[0;34m\"votes.ttl\"\u001b[0m\u001b[0;34m,\u001b[0m \u001b[0mprefix\u001b[0m \u001b[0;34m=\u001b[0m \u001b[0mpref\u001b[0m\u001b[0;34m)\u001b[0m\u001b[0;34m\u001b[0m\u001b[0;34m\u001b[0m\u001b[0m\n",
      "\u001b[0;32m/tmp/ipykernel_85/3222832465.py\u001b[0m in \u001b[0;36mdataToRDF\u001b[0;34m(f, pred, ref, rdfType, mailDef, blankNodeId, multivalue, url, nul)\u001b[0m\n\u001b[1;32m     14\u001b[0m     \u001b[0mlNew\u001b[0m \u001b[0;34m=\u001b[0m \u001b[0;34m[\u001b[0m\u001b[0;34m]\u001b[0m\u001b[0;34m\u001b[0m\u001b[0;34m\u001b[0m\u001b[0m\n\u001b[1;32m     15\u001b[0m \u001b[0;34m\u001b[0m\u001b[0m\n\u001b[0;32m---> 16\u001b[0;31m     \u001b[0;32mfor\u001b[0m \u001b[0mi\u001b[0m\u001b[0;34m,\u001b[0m \u001b[0mrow\u001b[0m \u001b[0;32min\u001b[0m \u001b[0mdf\u001b[0m\u001b[0;34m.\u001b[0m\u001b[0miterrows\u001b[0m\u001b[0;34m(\u001b[0m\u001b[0;34m)\u001b[0m\u001b[0;34m:\u001b[0m\u001b[0;34m\u001b[0m\u001b[0;34m\u001b[0m\u001b[0m\n\u001b[0m\u001b[1;32m     17\u001b[0m \u001b[0;34m\u001b[0m\u001b[0m\n\u001b[1;32m     18\u001b[0m         \u001b[0mblank_node\u001b[0m \u001b[0;34m=\u001b[0m \u001b[0mrow\u001b[0m\u001b[0;34m[\u001b[0m\u001b[0mblankNodeId\u001b[0m\u001b[0;34m]\u001b[0m\u001b[0;34m\u001b[0m\u001b[0;34m\u001b[0m\u001b[0m\n",
      "\u001b[0;32m/shared-libs/python3.7/py/lib/python3.7/site-packages/pandas/core/frame.py\u001b[0m in \u001b[0;36miterrows\u001b[0;34m(self)\u001b[0m\n\u001b[1;32m   1069\u001b[0m         \u001b[0mklass\u001b[0m \u001b[0;34m=\u001b[0m \u001b[0mself\u001b[0m\u001b[0;34m.\u001b[0m\u001b[0m_constructor_sliced\u001b[0m\u001b[0;34m\u001b[0m\u001b[0;34m\u001b[0m\u001b[0m\n\u001b[1;32m   1070\u001b[0m         \u001b[0;32mfor\u001b[0m \u001b[0mk\u001b[0m\u001b[0;34m,\u001b[0m \u001b[0mv\u001b[0m \u001b[0;32min\u001b[0m \u001b[0mzip\u001b[0m\u001b[0;34m(\u001b[0m\u001b[0mself\u001b[0m\u001b[0;34m.\u001b[0m\u001b[0mindex\u001b[0m\u001b[0;34m,\u001b[0m \u001b[0mself\u001b[0m\u001b[0;34m.\u001b[0m\u001b[0mvalues\u001b[0m\u001b[0;34m)\u001b[0m\u001b[0;34m:\u001b[0m\u001b[0;34m\u001b[0m\u001b[0;34m\u001b[0m\u001b[0m\n\u001b[0;32m-> 1071\u001b[0;31m             \u001b[0ms\u001b[0m \u001b[0;34m=\u001b[0m \u001b[0mklass\u001b[0m\u001b[0;34m(\u001b[0m\u001b[0mv\u001b[0m\u001b[0;34m,\u001b[0m \u001b[0mindex\u001b[0m\u001b[0;34m=\u001b[0m\u001b[0mcolumns\u001b[0m\u001b[0;34m,\u001b[0m \u001b[0mname\u001b[0m\u001b[0;34m=\u001b[0m\u001b[0mk\u001b[0m\u001b[0;34m)\u001b[0m\u001b[0;34m\u001b[0m\u001b[0;34m\u001b[0m\u001b[0m\n\u001b[0m\u001b[1;32m   1072\u001b[0m             \u001b[0;32myield\u001b[0m \u001b[0mk\u001b[0m\u001b[0;34m,\u001b[0m \u001b[0ms\u001b[0m\u001b[0;34m\u001b[0m\u001b[0;34m\u001b[0m\u001b[0m\n\u001b[1;32m   1073\u001b[0m \u001b[0;34m\u001b[0m\u001b[0m\n",
      "\u001b[0;32m/shared-libs/python3.7/py/lib/python3.7/site-packages/pandas/core/series.py\u001b[0m in \u001b[0;36m__init__\u001b[0;34m(self, data, index, dtype, name, copy, fastpath)\u001b[0m\n\u001b[1;32m    362\u001b[0m                     \u001b[0mdata\u001b[0m \u001b[0;34m=\u001b[0m \u001b[0mdata\u001b[0m\u001b[0;34m.\u001b[0m\u001b[0mcopy\u001b[0m\u001b[0;34m(\u001b[0m\u001b[0;34m)\u001b[0m\u001b[0;34m\u001b[0m\u001b[0;34m\u001b[0m\u001b[0m\n\u001b[1;32m    363\u001b[0m             \u001b[0;32melse\u001b[0m\u001b[0;34m:\u001b[0m\u001b[0;34m\u001b[0m\u001b[0;34m\u001b[0m\u001b[0m\n\u001b[0;32m--> 364\u001b[0;31m                 \u001b[0mdata\u001b[0m \u001b[0;34m=\u001b[0m \u001b[0msanitize_array\u001b[0m\u001b[0;34m(\u001b[0m\u001b[0mdata\u001b[0m\u001b[0;34m,\u001b[0m \u001b[0mindex\u001b[0m\u001b[0;34m,\u001b[0m \u001b[0mdtype\u001b[0m\u001b[0;34m,\u001b[0m \u001b[0mcopy\u001b[0m\u001b[0;34m,\u001b[0m \u001b[0mraise_cast_failure\u001b[0m\u001b[0;34m=\u001b[0m\u001b[0;32mTrue\u001b[0m\u001b[0;34m)\u001b[0m\u001b[0;34m\u001b[0m\u001b[0;34m\u001b[0m\u001b[0m\n\u001b[0m\u001b[1;32m    365\u001b[0m \u001b[0;34m\u001b[0m\u001b[0m\n\u001b[1;32m    366\u001b[0m                 \u001b[0mdata\u001b[0m \u001b[0;34m=\u001b[0m \u001b[0mSingleBlockManager\u001b[0m\u001b[0;34m.\u001b[0m\u001b[0mfrom_array\u001b[0m\u001b[0;34m(\u001b[0m\u001b[0mdata\u001b[0m\u001b[0;34m,\u001b[0m \u001b[0mindex\u001b[0m\u001b[0;34m)\u001b[0m\u001b[0;34m\u001b[0m\u001b[0;34m\u001b[0m\u001b[0m\n",
      "\u001b[0;32m/shared-libs/python3.7/py/lib/python3.7/site-packages/pandas/core/construction.py\u001b[0m in \u001b[0;36msanitize_array\u001b[0;34m(data, index, dtype, copy, raise_cast_failure)\u001b[0m\n\u001b[1;32m    459\u001b[0m         \u001b[0;32melse\u001b[0m\u001b[0;34m:\u001b[0m\u001b[0;34m\u001b[0m\u001b[0;34m\u001b[0m\u001b[0m\n\u001b[1;32m    460\u001b[0m             \u001b[0;31m# we will try to copy be-definition here\u001b[0m\u001b[0;34m\u001b[0m\u001b[0;34m\u001b[0m\u001b[0;34m\u001b[0m\u001b[0m\n\u001b[0;32m--> 461\u001b[0;31m             \u001b[0msubarr\u001b[0m \u001b[0;34m=\u001b[0m \u001b[0m_try_cast\u001b[0m\u001b[0;34m(\u001b[0m\u001b[0mdata\u001b[0m\u001b[0;34m,\u001b[0m \u001b[0mdtype\u001b[0m\u001b[0;34m,\u001b[0m \u001b[0mcopy\u001b[0m\u001b[0;34m,\u001b[0m \u001b[0mraise_cast_failure\u001b[0m\u001b[0;34m)\u001b[0m\u001b[0;34m\u001b[0m\u001b[0;34m\u001b[0m\u001b[0m\n\u001b[0m\u001b[1;32m    462\u001b[0m \u001b[0;34m\u001b[0m\u001b[0m\n\u001b[1;32m    463\u001b[0m     \u001b[0;32melif\u001b[0m \u001b[0misinstance\u001b[0m\u001b[0;34m(\u001b[0m\u001b[0mdata\u001b[0m\u001b[0;34m,\u001b[0m \u001b[0mABCExtensionArray\u001b[0m\u001b[0;34m)\u001b[0m\u001b[0;34m:\u001b[0m\u001b[0;34m\u001b[0m\u001b[0;34m\u001b[0m\u001b[0m\n",
      "\u001b[0;32m/shared-libs/python3.7/py/lib/python3.7/site-packages/pandas/core/construction.py\u001b[0m in \u001b[0;36m_try_cast\u001b[0;34m(arr, dtype, copy, raise_cast_failure)\u001b[0m\n\u001b[1;32m    588\u001b[0m             \u001b[0msubarr\u001b[0m \u001b[0;34m=\u001b[0m \u001b[0marr\u001b[0m\u001b[0;34m\u001b[0m\u001b[0;34m\u001b[0m\u001b[0m\n\u001b[1;32m    589\u001b[0m         \u001b[0;32melse\u001b[0m\u001b[0;34m:\u001b[0m\u001b[0;34m\u001b[0m\u001b[0;34m\u001b[0m\u001b[0m\n\u001b[0;32m--> 590\u001b[0;31m             \u001b[0msubarr\u001b[0m \u001b[0;34m=\u001b[0m \u001b[0mmaybe_cast_to_datetime\u001b[0m\u001b[0;34m(\u001b[0m\u001b[0marr\u001b[0m\u001b[0;34m,\u001b[0m \u001b[0mdtype\u001b[0m\u001b[0;34m)\u001b[0m\u001b[0;34m\u001b[0m\u001b[0;34m\u001b[0m\u001b[0m\n\u001b[0m\u001b[1;32m    591\u001b[0m \u001b[0;34m\u001b[0m\u001b[0m\n\u001b[1;32m    592\u001b[0m         \u001b[0;31m# Take care in creating object arrays (but iterators are not\u001b[0m\u001b[0;34m\u001b[0m\u001b[0;34m\u001b[0m\u001b[0;34m\u001b[0m\u001b[0m\n",
      "\u001b[0;32m/shared-libs/python3.7/py/lib/python3.7/site-packages/pandas/core/dtypes/cast.py\u001b[0m in \u001b[0;36mmaybe_cast_to_datetime\u001b[0;34m(value, dtype)\u001b[0m\n\u001b[1;32m   1382\u001b[0m     \u001b[0mnan\u001b[0m \u001b[0mto\u001b[0m \u001b[0miNaT\u001b[0m\u001b[0;34m\u001b[0m\u001b[0;34m\u001b[0m\u001b[0m\n\u001b[1;32m   1383\u001b[0m     \"\"\"\n\u001b[0;32m-> 1384\u001b[0;31m     \u001b[0;32mfrom\u001b[0m \u001b[0mpandas\u001b[0m\u001b[0;34m.\u001b[0m\u001b[0mcore\u001b[0m\u001b[0;34m.\u001b[0m\u001b[0mtools\u001b[0m\u001b[0;34m.\u001b[0m\u001b[0mdatetimes\u001b[0m \u001b[0;32mimport\u001b[0m \u001b[0mto_datetime\u001b[0m\u001b[0;34m\u001b[0m\u001b[0;34m\u001b[0m\u001b[0m\n\u001b[0m\u001b[1;32m   1385\u001b[0m     \u001b[0;32mfrom\u001b[0m \u001b[0mpandas\u001b[0m\u001b[0;34m.\u001b[0m\u001b[0mcore\u001b[0m\u001b[0;34m.\u001b[0m\u001b[0mtools\u001b[0m\u001b[0;34m.\u001b[0m\u001b[0mtimedeltas\u001b[0m \u001b[0;32mimport\u001b[0m \u001b[0mto_timedelta\u001b[0m\u001b[0;34m\u001b[0m\u001b[0;34m\u001b[0m\u001b[0m\n\u001b[1;32m   1386\u001b[0m \u001b[0;34m\u001b[0m\u001b[0m\n",
      "\u001b[0;32m/usr/local/lib/python3.7/importlib/_bootstrap.py\u001b[0m in \u001b[0;36m_handle_fromlist\u001b[0;34m(module, fromlist, import_, recursive)\u001b[0m\n",
      "\u001b[0;31mKeyboardInterrupt\u001b[0m: "
     ]
    }
   ],
   "execution_count": null
  },
  {
   "cell_type": "markdown",
   "source": "#### CSV Groupes",
   "metadata": {
    "tags": [],
    "cell_id": "00015-08de1de8-0f06-47c0-834c-2328c7e0ece8",
    "deepnote_cell_type": "markdown"
   }
  },
  {
   "cell_type": "code",
   "metadata": {
    "tags": [],
    "cell_id": "00016-85f7cf21-ca54-4347-bdea-a9dd657aaba9",
    "deepnote_to_be_reexecuted": false,
    "source_hash": "149ada6c",
    "execution_start": 1633961064562,
    "execution_millis": 11,
    "deepnote_cell_type": "code"
   },
   "source": "# tR : Le type RDF \ntR = \"schema:Organization\"\n# Les différents prédicats\np = [\"schema:identifier\", \"schema:name\", \"schema:alternateName\", \"schema:foundingDate\", \"schema:dissolutionDate\", \"schema:url\", \"schema:ethicsPolicy\", \"schema:ethicsPolicy\"]\n\n# Si jamais l'objet n'est pas une constante (\"\"). Par exemple si c'est une personne, faire le lien avec le graph personne \"perso :\" (perso est un préfix)\nrefs = [\"\",\"\", \"\", \"\", \"\", \"\", \"\", \"\", \"\"]\n# Index de la \"clé\", \"l'identifiant\" (je sais plus le nom)\nbI = 1\n# Liste des préfixes utilisés\npref = [\"rdf: <http://w3c.org/1999/02/22-rdf-syntax-ns#>\",\"schema: <http://schema.org/>\", \": <https://dolr.es/groups/>\"]\n\ns = dataToRDF(\"CSV/groupes.csv\", ref=refs, rdfType=tR, blankNodeId=bI, pred=p, multivalue=\"schema:ethicsPolicy\", nul=\"-\")\nRDFToFile(s, nameFile = \"ttl/groupes.ttl\", prefix = pref)",
   "outputs": [],
   "execution_count": 31
  },
  {
   "cell_type": "code",
   "metadata": {
    "tags": [],
    "cell_id": "00017-4480fc7c-8cd8-4ed4-a32e-9311470f13fc",
    "deepnote_to_be_reexecuted": false,
    "source_hash": "b2880d3c",
    "execution_start": 1633894369251,
    "execution_millis": 8004,
    "deepnote_cell_type": "code"
   },
   "source": "!pip3 uninstall slugify\n!pip3 install python-slugify",
   "outputs": [
    {
     "name": "stdout",
     "text": "\u001b[33mWARNING: Skipping slugify as it is not installed.\u001b[0m\nRequirement already satisfied: python-slugify in /shared-libs/python3.7/py/lib/python3.7/site-packages (5.0.2)\nRequirement already satisfied: text-unidecode>=1.3 in /shared-libs/python3.7/py/lib/python3.7/site-packages (from python-slugify) (1.3)\n",
     "output_type": "stream"
    }
   ],
   "execution_count": null
  },
  {
   "cell_type": "markdown",
   "source": "Deputés",
   "metadata": {
    "tags": [],
    "cell_id": "00018-46408beb-61bb-4fa1-a496-37276d5c1e02",
    "deepnote_cell_type": "markdown"
   }
  },
  {
   "cell_type": "code",
   "metadata": {
    "tags": [],
    "cell_id": "00022-7830df0e-2851-4c67-aeec-5821545f80e4",
    "deepnote_to_be_reexecuted": false,
    "source_hash": "7a10f837",
    "execution_start": 1633891927930,
    "execution_millis": 16,
    "deepnote_cell_type": "code"
   },
   "source": "PREFIX schema: <https://schema.org/>\nPREFIX wkd: <https://www.wikidata.org/wiki/Property:>\nPREFIX : <https://dolr.es/>\n\nCONSTRUCT {\n  ?parliamentMemberId a :ParliamentMember;\n    schema:gender ?civ;\n    schema:firstName ?prenom_low;\n    schema:givenName ?nom;\n    schema:birthDate ?naissance;\n    schema:jobTitle ?job;\n\n    schema:Organization ?organizationId;\n    \n    schema:AdministrativeArea ?locId;\n    wkd:P768 ?circo;\n\n    #wkd:P580 ?datePriseFonction;\n    #:nombreMandats ?nombreMandats;\n    #:experienceDepute ?experienceDepute;\n    #:scoreParticipation ?scoreParticipation;\n    #:scoreParticipationSpecialite ?scoreParticipationSpecialite;\n    #:scoreLoyaute ?scoreLoyaute;\n    #:scoreMajorite ?scoreMajorite;\n    #:active ?active;\n\n    schema:email ?email;\n    schema:url ?website;\n    wkd:P2002 ?twitterUsername;\n    wkd:P2013 ?facebook;\n    \n} \nFROM <file:deputes-historique.csv>\nWHERE {\n  BIND (URI(CONCAT('https://dolr.es/', ?id)) AS ?parliamentMemberId)\n  BIND (CONCAT('mailto:', ?mail) AS ?email)\n  BIND (REPLACE(?twitter, '@', '') AS ?twitterUsername)\n\n  BIND(REPLACE(?groupe,'é','e') AS ?groupe1)\n  BIND(REPLACE(?groupe1,'à','a') AS ?groupe2)\n  BIND(REPLACE(?groupe2,'ç','c') AS ?groupe3)\n  BIND(REPLACE(?groupe3,' ','-') AS ?groupe4)\n  BIND(REPLACE(?groupe4,',','') AS ?groupe5)\n  BIND(LCASE(?groupe5) AS ?groupe6)\n  BIND (URI(CONCAT('https://dolr.es/groups/', ?groupe6)) AS ?organizationId)\n  BIND (URI(CONCAT('https://dolr.es/locations/', ?departementCode)) AS ?locId)\n}",
   "outputs": [
    {
     "output_type": "error",
     "ename": "SyntaxError",
     "evalue": "invalid syntax (1404801722.py, line 1)",
     "traceback": [
      "\u001b[0;36m  File \u001b[0;32m\"/tmp/ipykernel_85/1404801722.py\"\u001b[0;36m, line \u001b[0;32m1\u001b[0m\n\u001b[0;31m    PREFIX schema: <http://schema.org/>\u001b[0m\n\u001b[0m                ^\u001b[0m\n\u001b[0;31mSyntaxError\u001b[0m\u001b[0;31m:\u001b[0m invalid syntax\n"
     ]
    }
   ],
   "execution_count": null
  },
  {
   "cell_type": "markdown",
   "source": "Groupes",
   "metadata": {
    "tags": [],
    "cell_id": "00019-db21b737-e5ee-4cb1-855c-2da8dfe48d9f",
    "deepnote_cell_type": "markdown"
   }
  },
  {
   "cell_type": "code",
   "metadata": {
    "tags": [],
    "cell_id": "00019-54387f5f-010c-449e-a507-a1b0229676c2",
    "deepnote_cell_type": "code"
   },
   "source": "PREFIX schema: <https://schema.org/>\n\nCONSTRUCT {\n  ?organizationId a schema:Organization;\n    schema:identifier ?id;\n    schema:name ?nom;\n    schema:alternateName ?abreviation;\n    schema:foundingDate ?anneeCreation;\n    schema:url ?url;\n    schema:ethicsPolicy ?valeurs;\n} \nFROM <file:groupes.csv>\nWHERE {\n  BIND(REPLACE(?nom,'é','e') AS ?nom1)\n  BIND(REPLACE(?nom1,'à','a') AS ?nom2)\n  BIND(REPLACE(?nom2,'ç','c') AS ?nom3)\n  BIND(REPLACE(?nom3,' ','-') AS ?nom4)\n  BIND(REPLACE(?nom4,',','') AS ?nom5)\n  BIND(LCASE(?nom5) AS ?nom6)\n  BIND (URI(CONCAT('https://dolr.es/groups/', ?nom6)) AS ?organizationId)\n\n  # ?ethics apf:strSplit (?valeurs ';')\n  # BIND(?ethics AS ?ethic)\n  # filter(BOUND(?ethic))\n}",
   "outputs": [],
   "execution_count": null
  },
  {
   "cell_type": "markdown",
   "source": "Locs",
   "metadata": {
    "tags": [],
    "cell_id": "00020-a06d2704-00c0-4685-85ca-24d9ee8bf0a4",
    "deepnote_cell_type": "markdown"
   }
  },
  {
   "cell_type": "code",
   "metadata": {
    "tags": [],
    "cell_id": "00021-0fc033c2-7622-41cb-a5b5-900fba9a1ce5",
    "deepnote_cell_type": "code"
   },
   "source": "PREFIX schema: <https://schema.org/>\n\nCONSTRUCT {\n  ?locId a schema:AdministrativeArea;\n    schema:name ?departementNom;\n    schema:address ?departementCode;\n} \nFROM <file:loc.csv>\nWHERE {\n  BIND (URI(CONCAT('https://dolr.es/locations/', ?departementCode)) AS ?locId)\n}",
   "outputs": [],
   "execution_count": null
  },
  {
   "cell_type": "markdown",
   "source": "<a style='text-decoration:none;line-height:16px;display:flex;color:#5B5B62;padding:10px;justify-content:end;' href='https://deepnote.com?utm_source=created-in-deepnote-cell&projectId=31db4137-da76-438e-92fb-6bb1432c3c77' target=\"_blank\">\n<img alt='Created in deepnote.com' style='display:inline;max-height:16px;margin:0px;margin-right:7.5px;' src='data:image/svg+xml;base64,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' > </img>\nCreated in <span style='font-weight:600;margin-left:4px;'>Deepnote</span></a>",
   "metadata": {
    "tags": [],
    "created_in_deepnote_cell": true,
    "deepnote_cell_type": "markdown"
   }
  }
 ],
 "nbformat": 4,
 "nbformat_minor": 2,
 "metadata": {
  "orig_nbformat": 2,
  "deepnote": {
   "is_reactive": false
  },
  "deepnote_notebook_id": "e99812d5-9583-4abb-83ce-829147ac3684",
  "deepnote_execution_queue": []
 }
}